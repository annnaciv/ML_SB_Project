{
 "cells": [
  {
   "cell_type": "code",
   "execution_count": 1,
   "id": "8db3a529-8a70-469e-b71f-b7c789436743",
   "metadata": {},
   "outputs": [],
   "source": [
    "import numpy as np\n",
    "import pandas as pd\n",
    "import cv2\n",
    "import matplotlib.pyplot as plt"
   ]
  },
  {
   "cell_type": "code",
   "execution_count": 20,
   "id": "5bbe3023-a118-4a47-88b2-2337d356fa3c",
   "metadata": {},
   "outputs": [
    {
     "data": {
      "text/html": [
       "<div>\n",
       "<style scoped>\n",
       "    .dataframe tbody tr th:only-of-type {\n",
       "        vertical-align: middle;\n",
       "    }\n",
       "\n",
       "    .dataframe tbody tr th {\n",
       "        vertical-align: top;\n",
       "    }\n",
       "\n",
       "    .dataframe thead th {\n",
       "        text-align: right;\n",
       "    }\n",
       "</style>\n",
       "<table border=\"1\" class=\"dataframe\">\n",
       "  <thead>\n",
       "    <tr style=\"text-align: right;\">\n",
       "      <th></th>\n",
       "      <th>lesion_id</th>\n",
       "      <th>image_id</th>\n",
       "      <th>dx</th>\n",
       "      <th>dx_type</th>\n",
       "      <th>age</th>\n",
       "      <th>sex</th>\n",
       "      <th>localization</th>\n",
       "    </tr>\n",
       "  </thead>\n",
       "  <tbody>\n",
       "    <tr>\n",
       "      <th>0</th>\n",
       "      <td>HAM_0000118</td>\n",
       "      <td>ISIC_0027419</td>\n",
       "      <td>bkl</td>\n",
       "      <td>histo</td>\n",
       "      <td>80.0</td>\n",
       "      <td>male</td>\n",
       "      <td>scalp</td>\n",
       "    </tr>\n",
       "    <tr>\n",
       "      <th>1</th>\n",
       "      <td>HAM_0000118</td>\n",
       "      <td>ISIC_0025030</td>\n",
       "      <td>bkl</td>\n",
       "      <td>histo</td>\n",
       "      <td>80.0</td>\n",
       "      <td>male</td>\n",
       "      <td>scalp</td>\n",
       "    </tr>\n",
       "    <tr>\n",
       "      <th>2</th>\n",
       "      <td>HAM_0002730</td>\n",
       "      <td>ISIC_0026769</td>\n",
       "      <td>bkl</td>\n",
       "      <td>histo</td>\n",
       "      <td>80.0</td>\n",
       "      <td>male</td>\n",
       "      <td>scalp</td>\n",
       "    </tr>\n",
       "    <tr>\n",
       "      <th>3</th>\n",
       "      <td>HAM_0002730</td>\n",
       "      <td>ISIC_0025661</td>\n",
       "      <td>bkl</td>\n",
       "      <td>histo</td>\n",
       "      <td>80.0</td>\n",
       "      <td>male</td>\n",
       "      <td>scalp</td>\n",
       "    </tr>\n",
       "    <tr>\n",
       "      <th>4</th>\n",
       "      <td>HAM_0001466</td>\n",
       "      <td>ISIC_0031633</td>\n",
       "      <td>bkl</td>\n",
       "      <td>histo</td>\n",
       "      <td>75.0</td>\n",
       "      <td>male</td>\n",
       "      <td>ear</td>\n",
       "    </tr>\n",
       "  </tbody>\n",
       "</table>\n",
       "</div>"
      ],
      "text/plain": [
       "     lesion_id      image_id   dx dx_type   age   sex localization\n",
       "0  HAM_0000118  ISIC_0027419  bkl   histo  80.0  male        scalp\n",
       "1  HAM_0000118  ISIC_0025030  bkl   histo  80.0  male        scalp\n",
       "2  HAM_0002730  ISIC_0026769  bkl   histo  80.0  male        scalp\n",
       "3  HAM_0002730  ISIC_0025661  bkl   histo  80.0  male        scalp\n",
       "4  HAM_0001466  ISIC_0031633  bkl   histo  75.0  male          ear"
      ]
     },
     "execution_count": 20,
     "metadata": {},
     "output_type": "execute_result"
    }
   ],
   "source": [
    "df = pd.read_csv('metadata.csv', index_col=0)\n",
    "\n",
    "df.head(5)"
   ]
  },
  {
   "cell_type": "code",
   "execution_count": 22,
   "id": "66555b35-cf4e-4c84-b245-26b6ff07b969",
   "metadata": {},
   "outputs": [
    {
     "data": {
      "text/plain": [
       "Index(['lesion_id', 'image_id', 'dx', 'dx_type', 'age', 'sex', 'localization'], dtype='object')"
      ]
     },
     "execution_count": 22,
     "metadata": {},
     "output_type": "execute_result"
    }
   ],
   "source": [
    "df.columns"
   ]
  },
  {
   "cell_type": "markdown",
   "id": "40a2b7ef-017f-4659-9209-d8f41a5bca41",
   "metadata": {},
   "source": [
    "# Data Balancing"
   ]
  },
  {
   "cell_type": "code",
   "execution_count": 25,
   "id": "5854678b-1a33-49d4-bf90-eaa17b0ed1bf",
   "metadata": {},
   "outputs": [
    {
     "data": {
      "image/png": "[encoded data removed]",
      "text/plain": [
       "<Figure size 640x480 with 1 Axes>"
      ]
     },
     "metadata": {},
     "output_type": "display_data"
    }
   ],
   "source": [
    "#visualize the lable classes distribution to see if the data is balanced\n",
    "df['dx'].value_counts().plot(kind='bar')\n",
    "\n",
    "plt.xlabel('Skin Lesion Classes')\n",
    "plt.ylabel('Frequency')\n",
    "plt.title('Lable Classes Distribution')\n",
    "\n",
    "plt.show()"
   ]
  },
  {
   "cell_type": "markdown",
   "id": "189ac706-1925-40a5-938f-02f96b9b2c32",
   "metadata": {},
   "source": [
    "Conclusion: the data is very imbalanced, melanocytic nevi (nv) is the prevalent lesion type.\n",
    "\n",
    "The undersampling of data will be done to make the data set more balanced: \n",
    "The nv entry count will be reduced to the second most popular lesion count (melanoma (mel))"
   ]
  },
  {
   "cell_type": "code",
   "execution_count": 27,
   "id": "db1db775-5af0-45a2-87b7-d194b6d89e79",
   "metadata": {},
   "outputs": [
    {
     "data": {
      "text/plain": [
       "dx\n",
       "nv       6705\n",
       "mel      1113\n",
       "bkl      1099\n",
       "bcc       514\n",
       "akiec     327\n",
       "vasc      142\n",
       "df        115\n",
       "Name: count, dtype: int64"
      ]
     },
     "execution_count": 27,
     "metadata": {},
     "output_type": "execute_result"
    }
   ],
   "source": [
    "class_counts = df['dx'].value_counts()\n",
    "class_counts"
   ]
  },
  {
   "cell_type": "code",
   "execution_count": 29,
   "id": "7b444441-dcfe-4f24-81cd-c76b74b6a414",
   "metadata": {},
   "outputs": [
    {
     "name": "stdout",
     "output_type": "stream",
     "text": [
      "Most common lesion class: nv \n",
      "Second most common lesion class (mel) count: 1113 \n"
     ]
    }
   ],
   "source": [
    "most_common = class_counts.index[0]\n",
    "second_common_count = class_counts.iloc[1]\n",
    "print(f'Most common lesion class: {most_common} ')\n",
    "print(f'Second most common lesion class (mel) count: {second_common_count} ')"
   ]
  },
  {
   "cell_type": "code",
   "execution_count": 31,
   "id": "ff1c51b4-bc04-4c42-b306-6e16606bbc48",
   "metadata": {},
   "outputs": [],
   "source": [
    "# randomly sample the most frequent class\n",
    "df_balanced = pd.concat([\n",
    "    df[df['dx'] == most_common].sample(n=second_common_count, random_state=42),\n",
    "    df[df['dx'] != most_common]\n",
    "])"
   ]
  },
  {
   "cell_type": "code",
   "execution_count": 33,
   "id": "987eac3c-2138-4d5b-8b27-9453d0953453",
   "metadata": {},
   "outputs": [
    {
     "data": {
      "text/html": [
       "<div>\n",
       "<style scoped>\n",
       "    .dataframe tbody tr th:only-of-type {\n",
       "        vertical-align: middle;\n",
       "    }\n",
       "\n",
       "    .dataframe tbody tr th {\n",
       "        vertical-align: top;\n",
       "    }\n",
       "\n",
       "    .dataframe thead th {\n",
       "        text-align: right;\n",
       "    }\n",
       "</style>\n",
       "<table border=\"1\" class=\"dataframe\">\n",
       "  <thead>\n",
       "    <tr style=\"text-align: right;\">\n",
       "      <th></th>\n",
       "      <th>lesion_id</th>\n",
       "      <th>image_id</th>\n",
       "      <th>dx</th>\n",
       "      <th>dx_type</th>\n",
       "      <th>age</th>\n",
       "      <th>sex</th>\n",
       "      <th>localization</th>\n",
       "    </tr>\n",
       "  </thead>\n",
       "  <tbody>\n",
       "    <tr>\n",
       "      <th>4163</th>\n",
       "      <td>HAM_0003697</td>\n",
       "      <td>ISIC_0025438</td>\n",
       "      <td>nv</td>\n",
       "      <td>follow_up</td>\n",
       "      <td>40.0</td>\n",
       "      <td>male</td>\n",
       "      <td>back</td>\n",
       "    </tr>\n",
       "    <tr>\n",
       "      <th>8687</th>\n",
       "      <td>HAM_0000217</td>\n",
       "      <td>ISIC_0029881</td>\n",
       "      <td>nv</td>\n",
       "      <td>histo</td>\n",
       "      <td>40.0</td>\n",
       "      <td>male</td>\n",
       "      <td>chest</td>\n",
       "    </tr>\n",
       "    <tr>\n",
       "      <th>3221</th>\n",
       "      <td>HAM_0003344</td>\n",
       "      <td>ISIC_0026399</td>\n",
       "      <td>nv</td>\n",
       "      <td>follow_up</td>\n",
       "      <td>35.0</td>\n",
       "      <td>female</td>\n",
       "      <td>abdomen</td>\n",
       "    </tr>\n",
       "    <tr>\n",
       "      <th>8752</th>\n",
       "      <td>HAM_0006028</td>\n",
       "      <td>ISIC_0032189</td>\n",
       "      <td>nv</td>\n",
       "      <td>histo</td>\n",
       "      <td>40.0</td>\n",
       "      <td>male</td>\n",
       "      <td>chest</td>\n",
       "    </tr>\n",
       "    <tr>\n",
       "      <th>5811</th>\n",
       "      <td>HAM_0000162</td>\n",
       "      <td>ISIC_0026609</td>\n",
       "      <td>nv</td>\n",
       "      <td>follow_up</td>\n",
       "      <td>40.0</td>\n",
       "      <td>female</td>\n",
       "      <td>back</td>\n",
       "    </tr>\n",
       "    <tr>\n",
       "      <th>...</th>\n",
       "      <td>...</td>\n",
       "      <td>...</td>\n",
       "      <td>...</td>\n",
       "      <td>...</td>\n",
       "      <td>...</td>\n",
       "      <td>...</td>\n",
       "      <td>...</td>\n",
       "    </tr>\n",
       "    <tr>\n",
       "      <th>10010</th>\n",
       "      <td>HAM_0002867</td>\n",
       "      <td>ISIC_0033084</td>\n",
       "      <td>akiec</td>\n",
       "      <td>histo</td>\n",
       "      <td>40.0</td>\n",
       "      <td>male</td>\n",
       "      <td>abdomen</td>\n",
       "    </tr>\n",
       "    <tr>\n",
       "      <th>10011</th>\n",
       "      <td>HAM_0002867</td>\n",
       "      <td>ISIC_0033550</td>\n",
       "      <td>akiec</td>\n",
       "      <td>histo</td>\n",
       "      <td>40.0</td>\n",
       "      <td>male</td>\n",
       "      <td>abdomen</td>\n",
       "    </tr>\n",
       "    <tr>\n",
       "      <th>10012</th>\n",
       "      <td>HAM_0002867</td>\n",
       "      <td>ISIC_0033536</td>\n",
       "      <td>akiec</td>\n",
       "      <td>histo</td>\n",
       "      <td>40.0</td>\n",
       "      <td>male</td>\n",
       "      <td>abdomen</td>\n",
       "    </tr>\n",
       "    <tr>\n",
       "      <th>10013</th>\n",
       "      <td>HAM_0000239</td>\n",
       "      <td>ISIC_0032854</td>\n",
       "      <td>akiec</td>\n",
       "      <td>histo</td>\n",
       "      <td>80.0</td>\n",
       "      <td>male</td>\n",
       "      <td>face</td>\n",
       "    </tr>\n",
       "    <tr>\n",
       "      <th>10014</th>\n",
       "      <td>HAM_0003521</td>\n",
       "      <td>ISIC_0032258</td>\n",
       "      <td>mel</td>\n",
       "      <td>histo</td>\n",
       "      <td>70.0</td>\n",
       "      <td>female</td>\n",
       "      <td>back</td>\n",
       "    </tr>\n",
       "  </tbody>\n",
       "</table>\n",
       "<p>4423 rows × 7 columns</p>\n",
       "</div>"
      ],
      "text/plain": [
       "         lesion_id      image_id     dx    dx_type   age     sex localization\n",
       "4163   HAM_0003697  ISIC_0025438     nv  follow_up  40.0    male         back\n",
       "8687   HAM_0000217  ISIC_0029881     nv      histo  40.0    male        chest\n",
       "3221   HAM_0003344  ISIC_0026399     nv  follow_up  35.0  female      abdomen\n",
       "8752   HAM_0006028  ISIC_0032189     nv      histo  40.0    male        chest\n",
       "5811   HAM_0000162  ISIC_0026609     nv  follow_up  40.0  female         back\n",
       "...            ...           ...    ...        ...   ...     ...          ...\n",
       "10010  HAM_0002867  ISIC_0033084  akiec      histo  40.0    male      abdomen\n",
       "10011  HAM_0002867  ISIC_0033550  akiec      histo  40.0    male      abdomen\n",
       "10012  HAM_0002867  ISIC_0033536  akiec      histo  40.0    male      abdomen\n",
       "10013  HAM_0000239  ISIC_0032854  akiec      histo  80.0    male         face\n",
       "10014  HAM_0003521  ISIC_0032258    mel      histo  70.0  female         back\n",
       "\n",
       "[4423 rows x 7 columns]"
      ]
     },
     "execution_count": 33,
     "metadata": {},
     "output_type": "execute_result"
    }
   ],
   "source": [
    "df_balanced"
   ]
  },
  {
   "cell_type": "code",
   "execution_count": 35,
   "id": "02bf1bd7-95a6-4c63-88cf-69d8c388c9c8",
   "metadata": {},
   "outputs": [
    {
     "data": {
      "image/png": "[encoded data removed]",
      "text/plain": [
       "<Figure size 640x480 with 1 Axes>"
      ]
     },
     "metadata": {},
     "output_type": "display_data"
    }
   ],
   "source": [
    "#visualize the lable classes distribution of balanced data set to see if the data is balanced\n",
    "df_balanced['dx'].value_counts().plot(kind='bar')\n",
    "\n",
    "plt.xlabel('Skin Lesion Classes')\n",
    "plt.ylabel('Frequency')\n",
    "plt.title('Balanced Dataset Classes Distribution')\n",
    "\n",
    "plt.show()"
   ]
  },
  {
   "cell_type": "code",
   "execution_count": 37,
   "id": "ce226b55-d7f7-4196-99f4-804b809db46d",
   "metadata": {},
   "outputs": [
    {
     "data": {
      "text/plain": [
       "dx\n",
       "nv       1113\n",
       "mel      1113\n",
       "bkl      1099\n",
       "bcc       514\n",
       "akiec     327\n",
       "vasc      142\n",
       "df        115\n",
       "Name: count, dtype: int64"
      ]
     },
     "execution_count": 37,
     "metadata": {},
     "output_type": "execute_result"
    }
   ],
   "source": [
    "df_balanced['dx'].value_counts()"
   ]
  },
  {
   "cell_type": "markdown",
   "id": "12a5a380-cda7-41b0-b97f-059c82453bc2",
   "metadata": {},
   "source": [
    "# Data Preprocessing"
   ]
  },
  {
   "cell_type": "code",
   "execution_count": 39,
   "id": "a94f00eb-f801-46d8-937c-2c0f7e5871a3",
   "metadata": {},
   "outputs": [
    {
     "name": "stdout",
     "output_type": "stream",
     "text": [
      "<class 'pandas.core.frame.DataFrame'>\n",
      "Index: 4423 entries, 4163 to 10014\n",
      "Data columns (total 7 columns):\n",
      " #   Column        Non-Null Count  Dtype  \n",
      "---  ------        --------------  -----  \n",
      " 0   lesion_id     4423 non-null   object \n",
      " 1   image_id      4423 non-null   object \n",
      " 2   dx            4423 non-null   object \n",
      " 3   dx_type       4423 non-null   object \n",
      " 4   age           4403 non-null   float64\n",
      " 5   sex           4423 non-null   object \n",
      " 6   localization  4423 non-null   object \n",
      "dtypes: float64(1), object(6)\n",
      "memory usage: 276.4+ KB\n",
      "None\n"
     ]
    }
   ],
   "source": [
    "#check for missing values\n",
    "print(df_balanced.info())"
   ]
  },
  {
   "cell_type": "code",
   "execution_count": 41,
   "id": "b941824f-c588-4ad0-bfa4-0aaabc74e168",
   "metadata": {},
   "outputs": [],
   "source": [
    "#one hot encoding for sex and localization \n",
    "df_balanced = pd.get_dummies(df_balanced, columns=['sex', 'localization', 'dx_type'])\n",
    "\n",
    "#scale age between 0 and 1\n",
    "from sklearn.preprocessing import MinMaxScaler\n",
    "scaler = MinMaxScaler()\n",
    "df_balanced['age'] = scaler.fit_transform(df_balanced[['age']])"
   ]
  },
  {
   "cell_type": "code",
   "execution_count": 42,
   "id": "1787c359-b2bb-4876-8e1d-d8486fc26849",
   "metadata": {},
   "outputs": [],
   "source": [
    "#adding a column with image paths to metadata\n",
    "df_balanced['image_path'] = '/Users/annacivcisa/Desktop/ML_Synth/Skin_Cancer_Project/HAM10000_images/' + df['image_id'] + '.jpg'"
   ]
  },
  {
   "cell_type": "code",
   "execution_count": 43,
   "id": "6d43ade3-dc21-44ef-b482-dae32add8503",
   "metadata": {},
   "outputs": [
    {
     "data": {
      "text/html": [
       "<div>\n",
       "<style scoped>\n",
       "    .dataframe tbody tr th:only-of-type {\n",
       "        vertical-align: middle;\n",
       "    }\n",
       "\n",
       "    .dataframe tbody tr th {\n",
       "        vertical-align: top;\n",
       "    }\n",
       "\n",
       "    .dataframe thead th {\n",
       "        text-align: right;\n",
       "    }\n",
       "</style>\n",
       "<table border=\"1\" class=\"dataframe\">\n",
       "  <thead>\n",
       "    <tr style=\"text-align: right;\">\n",
       "      <th></th>\n",
       "      <th>lesion_id</th>\n",
       "      <th>image_id</th>\n",
       "      <th>dx</th>\n",
       "      <th>age</th>\n",
       "      <th>sex_female</th>\n",
       "      <th>sex_male</th>\n",
       "      <th>sex_unknown</th>\n",
       "      <th>localization_abdomen</th>\n",
       "      <th>localization_back</th>\n",
       "      <th>localization_chest</th>\n",
       "      <th>...</th>\n",
       "      <th>localization_neck</th>\n",
       "      <th>localization_scalp</th>\n",
       "      <th>localization_trunk</th>\n",
       "      <th>localization_unknown</th>\n",
       "      <th>localization_upper extremity</th>\n",
       "      <th>dx_type_confocal</th>\n",
       "      <th>dx_type_consensus</th>\n",
       "      <th>dx_type_follow_up</th>\n",
       "      <th>dx_type_histo</th>\n",
       "      <th>image_path</th>\n",
       "    </tr>\n",
       "  </thead>\n",
       "  <tbody>\n",
       "    <tr>\n",
       "      <th>4163</th>\n",
       "      <td>HAM_0003697</td>\n",
       "      <td>ISIC_0025438</td>\n",
       "      <td>nv</td>\n",
       "      <td>0.470588</td>\n",
       "      <td>False</td>\n",
       "      <td>True</td>\n",
       "      <td>False</td>\n",
       "      <td>False</td>\n",
       "      <td>True</td>\n",
       "      <td>False</td>\n",
       "      <td>...</td>\n",
       "      <td>False</td>\n",
       "      <td>False</td>\n",
       "      <td>False</td>\n",
       "      <td>False</td>\n",
       "      <td>False</td>\n",
       "      <td>False</td>\n",
       "      <td>False</td>\n",
       "      <td>True</td>\n",
       "      <td>False</td>\n",
       "      <td>/Users/annacivcisa/Desktop/ML_Synth/Skin_Cance...</td>\n",
       "    </tr>\n",
       "    <tr>\n",
       "      <th>8687</th>\n",
       "      <td>HAM_0000217</td>\n",
       "      <td>ISIC_0029881</td>\n",
       "      <td>nv</td>\n",
       "      <td>0.470588</td>\n",
       "      <td>False</td>\n",
       "      <td>True</td>\n",
       "      <td>False</td>\n",
       "      <td>False</td>\n",
       "      <td>False</td>\n",
       "      <td>True</td>\n",
       "      <td>...</td>\n",
       "      <td>False</td>\n",
       "      <td>False</td>\n",
       "      <td>False</td>\n",
       "      <td>False</td>\n",
       "      <td>False</td>\n",
       "      <td>False</td>\n",
       "      <td>False</td>\n",
       "      <td>False</td>\n",
       "      <td>True</td>\n",
       "      <td>/Users/annacivcisa/Desktop/ML_Synth/Skin_Cance...</td>\n",
       "    </tr>\n",
       "    <tr>\n",
       "      <th>3221</th>\n",
       "      <td>HAM_0003344</td>\n",
       "      <td>ISIC_0026399</td>\n",
       "      <td>nv</td>\n",
       "      <td>0.411765</td>\n",
       "      <td>True</td>\n",
       "      <td>False</td>\n",
       "      <td>False</td>\n",
       "      <td>True</td>\n",
       "      <td>False</td>\n",
       "      <td>False</td>\n",
       "      <td>...</td>\n",
       "      <td>False</td>\n",
       "      <td>False</td>\n",
       "      <td>False</td>\n",
       "      <td>False</td>\n",
       "      <td>False</td>\n",
       "      <td>False</td>\n",
       "      <td>False</td>\n",
       "      <td>True</td>\n",
       "      <td>False</td>\n",
       "      <td>/Users/annacivcisa/Desktop/ML_Synth/Skin_Cance...</td>\n",
       "    </tr>\n",
       "    <tr>\n",
       "      <th>8752</th>\n",
       "      <td>HAM_0006028</td>\n",
       "      <td>ISIC_0032189</td>\n",
       "      <td>nv</td>\n",
       "      <td>0.470588</td>\n",
       "      <td>False</td>\n",
       "      <td>True</td>\n",
       "      <td>False</td>\n",
       "      <td>False</td>\n",
       "      <td>False</td>\n",
       "      <td>True</td>\n",
       "      <td>...</td>\n",
       "      <td>False</td>\n",
       "      <td>False</td>\n",
       "      <td>False</td>\n",
       "      <td>False</td>\n",
       "      <td>False</td>\n",
       "      <td>False</td>\n",
       "      <td>False</td>\n",
       "      <td>False</td>\n",
       "      <td>True</td>\n",
       "      <td>/Users/annacivcisa/Desktop/ML_Synth/Skin_Cance...</td>\n",
       "    </tr>\n",
       "    <tr>\n",
       "      <th>5811</th>\n",
       "      <td>HAM_0000162</td>\n",
       "      <td>ISIC_0026609</td>\n",
       "      <td>nv</td>\n",
       "      <td>0.470588</td>\n",
       "      <td>True</td>\n",
       "      <td>False</td>\n",
       "      <td>False</td>\n",
       "      <td>False</td>\n",
       "      <td>True</td>\n",
       "      <td>False</td>\n",
       "      <td>...</td>\n",
       "      <td>False</td>\n",
       "      <td>False</td>\n",
       "      <td>False</td>\n",
       "      <td>False</td>\n",
       "      <td>False</td>\n",
       "      <td>False</td>\n",
       "      <td>False</td>\n",
       "      <td>True</td>\n",
       "      <td>False</td>\n",
       "      <td>/Users/annacivcisa/Desktop/ML_Synth/Skin_Cance...</td>\n",
       "    </tr>\n",
       "  </tbody>\n",
       "</table>\n",
       "<p>5 rows × 26 columns</p>\n",
       "</div>"
      ],
      "text/plain": [
       "        lesion_id      image_id  dx       age  sex_female  sex_male  \\\n",
       "4163  HAM_0003697  ISIC_0025438  nv  0.470588       False      True   \n",
       "8687  HAM_0000217  ISIC_0029881  nv  0.470588       False      True   \n",
       "3221  HAM_0003344  ISIC_0026399  nv  0.411765        True     False   \n",
       "8752  HAM_0006028  ISIC_0032189  nv  0.470588       False      True   \n",
       "5811  HAM_0000162  ISIC_0026609  nv  0.470588        True     False   \n",
       "\n",
       "      sex_unknown  localization_abdomen  localization_back  \\\n",
       "4163        False                 False               True   \n",
       "8687        False                 False              False   \n",
       "3221        False                  True              False   \n",
       "8752        False                 False              False   \n",
       "5811        False                 False               True   \n",
       "\n",
       "      localization_chest  ...  localization_neck  localization_scalp  \\\n",
       "4163               False  ...              False               False   \n",
       "8687                True  ...              False               False   \n",
       "3221               False  ...              False               False   \n",
       "8752                True  ...              False               False   \n",
       "5811               False  ...              False               False   \n",
       "\n",
       "      localization_trunk  localization_unknown  localization_upper extremity  \\\n",
       "4163               False                 False                         False   \n",
       "8687               False                 False                         False   \n",
       "3221               False                 False                         False   \n",
       "8752               False                 False                         False   \n",
       "5811               False                 False                         False   \n",
       "\n",
       "      dx_type_confocal  dx_type_consensus  dx_type_follow_up  dx_type_histo  \\\n",
       "4163             False              False               True          False   \n",
       "8687             False              False              False           True   \n",
       "3221             False              False               True          False   \n",
       "8752             False              False              False           True   \n",
       "5811             False              False               True          False   \n",
       "\n",
       "                                             image_path  \n",
       "4163  /Users/annacivcisa/Desktop/ML_Synth/Skin_Cance...  \n",
       "8687  /Users/annacivcisa/Desktop/ML_Synth/Skin_Cance...  \n",
       "3221  /Users/annacivcisa/Desktop/ML_Synth/Skin_Cance...  \n",
       "8752  /Users/annacivcisa/Desktop/ML_Synth/Skin_Cance...  \n",
       "5811  /Users/annacivcisa/Desktop/ML_Synth/Skin_Cance...  \n",
       "\n",
       "[5 rows x 26 columns]"
      ]
     },
     "execution_count": 43,
     "metadata": {},
     "output_type": "execute_result"
    }
   ],
   "source": [
    "df_balanced.head(5)"
   ]
  },
  {
   "cell_type": "code",
   "execution_count": 47,
   "id": "d75c2afc-f45d-4351-923e-006e5e587ba7",
   "metadata": {},
   "outputs": [],
   "source": [
    "df_balanced.to_csv('metadata_processed.csv')"
   ]
  }
 ],
 "metadata": {
  "kernelspec": {
   "display_name": "Python 3 (ipykernel)",
   "language": "python",
   "name": "python3"
  },
  "language_info": {
   "codemirror_mode": {
    "name": "ipython",
    "version": 3
   },
   "file_extension": ".py",
   "mimetype": "text/x-python",
   "name": "python",
   "nbconvert_exporter": "python",
   "pygments_lexer": "ipython3",
   "version": "3.12.2"
  }
 },
 "nbformat": 4,
 "nbformat_minor": 5
}
